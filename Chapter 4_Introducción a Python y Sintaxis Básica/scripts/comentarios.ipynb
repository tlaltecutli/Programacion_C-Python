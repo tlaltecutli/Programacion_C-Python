{
 "cells": [
  {
   "cell_type": "markdown",
   "id": "763dc34d",
   "metadata": {},
   "source": [
    "# Libreta para la clase del dia 14/10/2025"
   ]
  },
  {
   "cell_type": "code",
   "execution_count": 1,
   "id": "2828fe24",
   "metadata": {},
   "outputs": [
    {
     "name": "stdout",
     "output_type": "stream",
     "text": [
      "Hola, mundo!\n",
      "¡Bienvenido a la clase de programacion en Python!\n"
     ]
    }
   ],
   "source": [
    "\"\"\"\n",
    "Este es un comentario de múltiples líneas\n",
    "en Python.\n",
    "\"\"\"\n",
    "print(\"Hola, mundo!\")  # Esto es un comentario de una sola línea\n",
    "print(\"¡Bienvenido a la clase de programacion en Python!\")  # Otro comentario de una sola línea"
   ]
  },
  {
   "cell_type": "code",
   "execution_count": 2,
   "id": "e92ba159",
   "metadata": {},
   "outputs": [
    {
     "name": "stdout",
     "output_type": "stream",
     "text": [
      "===INFORMACION PERSONAL===\n",
      "Nombre: María\n",
      "Edad: 25\n",
      "Ciudad: Ciudad de México\n"
     ]
    }
   ],
   "source": [
    "# saludo personalizado\n",
    "nombre = \"María\"\n",
    "edad = 25\n",
    "ciudad = \"Ciudad de México\"\n",
    "\n",
    "# Mostrar información personalizada\n",
    "print(\"===INFORMACION PERSONAL===\")\n",
    "print(\"Nombre:\", nombre)\n",
    "print(\"Edad:\", edad)\n",
    "print(\"Ciudad:\", ciudad)"
   ]
  },
  {
   "cell_type": "code",
   "execution_count": 3,
   "id": "63aa66d3",
   "metadata": {},
   "outputs": [
    {
     "data": {
      "text/plain": [
       "str"
      ]
     },
     "execution_count": 3,
     "metadata": {},
     "output_type": "execute_result"
    }
   ],
   "source": [
    "type(nombre)"
   ]
  },
  {
   "cell_type": "code",
   "execution_count": 4,
   "id": "e761fcad",
   "metadata": {},
   "outputs": [
    {
     "data": {
      "text/plain": [
       "int"
      ]
     },
     "execution_count": 4,
     "metadata": {},
     "output_type": "execute_result"
    }
   ],
   "source": [
    "type(edad)"
   ]
  },
  {
   "cell_type": "code",
   "execution_count": 5,
   "id": "fee8c9b7",
   "metadata": {},
   "outputs": [
    {
     "data": {
      "text/plain": [
       "str"
      ]
     },
     "execution_count": 5,
     "metadata": {},
     "output_type": "execute_result"
    }
   ],
   "source": [
    "type(ciudad)"
   ]
  },
  {
   "cell_type": "code",
   "execution_count": 6,
   "id": "965fa594",
   "metadata": {},
   "outputs": [
    {
     "name": "stdout",
     "output_type": "stream",
     "text": [
      "Temperatura: 22.5\n"
     ]
    }
   ],
   "source": [
    "temperatura = 22.5\n",
    "print(\"Temperatura:\", temperatura)"
   ]
  },
  {
   "cell_type": "code",
   "execution_count": 7,
   "id": "7b99c9fa",
   "metadata": {},
   "outputs": [
    {
     "data": {
      "text/plain": [
       "float"
      ]
     },
     "execution_count": 7,
     "metadata": {},
     "output_type": "execute_result"
    }
   ],
   "source": [
    "type(temperatura)"
   ]
  },
  {
   "cell_type": "code",
   "execution_count": null,
   "id": "e15a73d7",
   "metadata": {},
   "outputs": [],
   "source": []
  }
 ],
 "metadata": {
  "kernelspec": {
   "display_name": "env2",
   "language": "python",
   "name": "python3"
  },
  "language_info": {
   "codemirror_mode": {
    "name": "ipython",
    "version": 3
   },
   "file_extension": ".py",
   "mimetype": "text/x-python",
   "name": "python",
   "nbconvert_exporter": "python",
   "pygments_lexer": "ipython3",
   "version": "3.12.7"
  }
 },
 "nbformat": 4,
 "nbformat_minor": 5
}
